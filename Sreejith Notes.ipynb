{
 "cells": [
  {
   "cell_type": "code",
   "execution_count": 15,
   "id": "5c32e426-4497-445a-a87f-b10958f483fc",
   "metadata": {},
   "outputs": [
    {
     "name": "stdout",
     "output_type": "stream",
     "text": [
      "tEsT\n"
     ]
    }
   ],
   "source": [
    "def myfunc(word):\n",
    "    output = []\n",
    "    for index, letter in enumerate(word):\n",
    "        if index%2 == 0:\n",
    "            output.append(letter.lower())\n",
    "        else:\n",
    "            output.append(letter.upper())\n",
    "    return ''.join(output)\n",
    "print(myfunc('Test'))"
   ]
  },
  {
   "cell_type": "code",
   "execution_count": null,
   "id": "da05b7f7-15d6-4941-8551-c304908adea7",
   "metadata": {},
   "outputs": [],
   "source": [
    "\n"
   ]
  },
  {
   "cell_type": "code",
   "execution_count": null,
   "id": "c2fdb0c9-f371-45ca-9a7a-bba19bb7bec4",
   "metadata": {},
   "outputs": [],
   "source": []
  },
  {
   "cell_type": "markdown",
   "id": "9bfc1817-8dcb-444b-8115-393b2bba6c9e",
   "metadata": {},
   "source": [
    "### Functions"
   ]
  },
  {
   "cell_type": "code",
   "execution_count": 19,
   "id": "54fcb77d-e1ce-4289-8fe5-c0c2189eeee0",
   "metadata": {},
   "outputs": [
    {
     "name": "stdout",
     "output_type": "stream",
     "text": [
      "Hello, Default!\n",
      "Hello, test!\n"
     ]
    }
   ],
   "source": [
    "def say_hello(name = 'Default'):\n",
    "    print(f'Hello, {name}!')\n",
    "say_hello()\n",
    "say_hello('test')"
   ]
  },
  {
   "cell_type": "code",
   "execution_count": 29,
   "id": "c9c66b25-8f74-4906-9e60-bb85bbbf397c",
   "metadata": {},
   "outputs": [
    {
     "name": "stdout",
     "output_type": "stream",
     "text": [
      "[3, '1', 4, '2']\n",
      "[3, '1', 4, '2']\n",
      "[4, 3, '2', '1']\n",
      "[4, 3, '2', '1']\n",
      "[4, '1', 3, '2']\n",
      "[4, 3, '2', '1']\n"
     ]
    }
   ],
   "source": [
    "ex = ['1', '2', 3, 4]\n",
    "from random import shuffle\n",
    "def my_shuffle(mylist):\n",
    "    shuffle(mylist)\n",
    "    return mylist\n",
    "copy_of_ex = ex\n",
    "copy_of_ex2 = ex.copy()\n",
    "test1 = my_shuffle(ex) # note this also shuffles ex\n",
    "print(test1)\n",
    "print(ex)\n",
    "\n",
    "test2 = my_shuffle(copy_of_ex) # this also shuffles ex !!\n",
    "print(test2)\n",
    "print(ex)\n",
    "\n",
    "test3 = my_shuffle(copy_of_ex2) # this doesnt shuffle ex !!\n",
    "print(test3)\n",
    "print(ex)\n"
   ]
  },
  {
   "cell_type": "markdown",
   "id": "aaa8450b-a71a-43ed-8a2b-a0018408852a",
   "metadata": {},
   "source": [
    "## `*args`\n",
    "\n",
    "When a function parameter starts with an asterisk, it allows for an *arbitrary number* of arguments, and the function takes them in as a tuple of values. Rewriting the above function:"
   ]
  },
  {
   "cell_type": "code",
   "execution_count": 40,
   "id": "c27a92ee-a812-44f8-869b-cffa223dd6e1",
   "metadata": {},
   "outputs": [
    {
     "data": {
      "text/plain": [
       "120"
      ]
     },
     "execution_count": 40,
     "metadata": {},
     "output_type": "execute_result"
    }
   ],
   "source": [
    "def myfunc(*args):\n",
    "    return sum(args) #here args is a tuple\n",
    "\n",
    "myfunc(40,60,20)"
   ]
  },
  {
   "cell_type": "code",
   "execution_count": 38,
   "id": "57534c97-ecc9-4dd2-8d15-773c3f3822a2",
   "metadata": {},
   "outputs": [
    {
     "name": "stdout",
     "output_type": "stream",
     "text": [
      "I like eggs and spam and my favorite fruit is cherries\n",
      "May I have some orange juice?\n"
     ]
    }
   ],
   "source": [
    "def myfunc(*args, **kwargs): # kwargs is a dict of key value pairs. kwargs = keyword args\n",
    "    if 'fruit' and 'juice' in kwargs:\n",
    "        print(f\"I like {' and '.join(args)} and my favorite fruit is {kwargs['fruit']}\")\n",
    "        print(f\"May I have some {kwargs['juice']} juice?\")\n",
    "    else:\n",
    "        pass\n",
    "        \n",
    "myfunc('eggs','spam',fruit='cherries',juice='orange')\n",
    "# myfunc(fruit='cherries',juice='orange','eggs','spam') -> args have to be first. This would raise exception"
   ]
  },
  {
   "cell_type": "markdown",
   "id": "eaf9aaf7-2031-4fff-a0e2-211610b4565a",
   "metadata": {},
   "source": [
    "## Statements"
   ]
  },
  {
   "cell_type": "code",
   "execution_count": 79,
   "id": "14aa6dea-974f-4ed5-ab2e-51e8023ae410",
   "metadata": {},
   "outputs": [
    {
     "name": "stdout",
     "output_type": "stream",
     "text": [
      "true\n"
     ]
    }
   ],
   "source": [
    "a = 3\n",
    "if a:\n",
    "    print('true')\n",
    "else:\n",
    "    print('false')"
   ]
  },
  {
   "cell_type": "markdown",
   "id": "306d3c78-2ae5-4d81-8983-8224f563952f",
   "metadata": {},
   "source": [
    "## Random"
   ]
  },
  {
   "cell_type": "code",
   "execution_count": 1,
   "id": "1efe14df-5298-4003-9647-4cbeb5994e8c",
   "metadata": {},
   "outputs": [
    {
     "name": "stdout",
     "output_type": "stream",
     "text": [
      "[96, 64, 98, 45, 50, 63, 76, 73, 57, 16]\n",
      "[20, 94, 56, 14, 91, 57, 53, 4, 94, 94]\n"
     ]
    }
   ],
   "source": [
    "from random import randint\n",
    "mylist = []\n",
    "for i in range(0,10):\n",
    "    mylist.append(randint(0,100))\n",
    "print(mylist)\n",
    "mylist2 = [randint(0,100) for _ in range(0,10)]\n",
    "print((mylist2))"
   ]
  },
  {
   "cell_type": "code",
   "execution_count": 90,
   "id": "91b73877-49cd-4c20-9e88-9919594dfd33",
   "metadata": {},
   "outputs": [
    {
     "data": {
      "text/plain": [
       "{'a': 1, 'b': 2, 'c': 3, 'd': 4, 'e': 5}"
      ]
     },
     "execution_count": 90,
     "metadata": {},
     "output_type": "execute_result"
    }
   ],
   "source": [
    "mylist1 = [1,2,3,4,5]\n",
    "mylist2 = ['a','b','c','d','e']\n",
    "mydict = {}\n",
    "for item1, item2 in zip(mylist1, mylist2):\n",
    "    mydict[item2] = item1\n",
    "mydict"
   ]
  },
  {
   "cell_type": "code",
   "execution_count": 14,
   "id": "cf84e83f-3b87-426a-9a13-598e6461551b",
   "metadata": {},
   "outputs": [
    {
     "name": "stdout",
     "output_type": "stream",
     "text": [
      "[1, 20, 3000]\n",
      "[1, 10, 1000, 2, 20, 2000, 3, 30, 3000]\n"
     ]
    }
   ],
   "source": [
    "print( [x*y for x,y in zip([1,2,3], [1, 10, 1000])] )\n",
    "print( [x*y for x in [1,2,3] for y in [1, 10, 1000]])\n"
   ]
  },
  {
   "cell_type": "markdown",
   "id": "f8c8cd19-28ea-48d8-8227-d2e4ab10515f",
   "metadata": {},
   "source": [
    "## String formatting"
   ]
  },
  {
   "cell_type": "code",
   "execution_count": 33,
   "id": "58d39646-c55c-4381-883f-a568159ce505",
   "metadata": {},
   "outputs": [
    {
     "name": "stdout",
     "output_type": "stream",
     "text": [
      "The test what\n"
     ]
    }
   ],
   "source": [
    "print('The {a} {b}'.format(a='test', b = 'what'))"
   ]
  },
  {
   "cell_type": "code",
   "execution_count": 6,
   "id": "696f5cbb-fddc-4059-81e4-35a7b31dcdbe",
   "metadata": {},
   "outputs": [
    {
     "name": "stdout",
     "output_type": "stream",
     "text": [
      "He said his name is Fred.\n"
     ]
    }
   ],
   "source": [
    "name = 'Fred'\n",
    "print(f\"He said his name is {name}.\")"
   ]
  },
  {
   "cell_type": "markdown",
   "id": "e2125c4d-dd64-40b6-b49f-a975cb114f9a",
   "metadata": {},
   "source": [
    "## Dictionaries"
   ]
  },
  {
   "cell_type": "code",
   "execution_count": 66,
   "id": "9dcc4990-ad90-4c33-911c-8730a0d01885",
   "metadata": {},
   "outputs": [],
   "source": [
    "a = {'k2': 10, 'k1': 20}"
   ]
  },
  {
   "cell_type": "code",
   "execution_count": 68,
   "id": "5a794cc7-081b-4e2d-beb3-7d43dc07bfeb",
   "metadata": {},
   "outputs": [
    {
     "name": "stdout",
     "output_type": "stream",
     "text": [
      "dict_keys(['k2', 'k1'])\n",
      "['k2', 'k1']\n",
      "<class 'list'>\n"
     ]
    }
   ],
   "source": [
    "print(a.keys())\n",
    "print(list(a.keys()))\n",
    "t = list(a.keys())\n",
    "print(type(t))"
   ]
  },
  {
   "cell_type": "code",
   "execution_count": 58,
   "id": "d3b534dc-3297-4822-a233-af3faf79d337",
   "metadata": {},
   "outputs": [
    {
     "data": {
      "text/plain": [
       "['k1', 'k2']"
      ]
     },
     "execution_count": 58,
     "metadata": {},
     "output_type": "execute_result"
    }
   ],
   "source": [
    "k"
   ]
  },
  {
   "cell_type": "code",
   "execution_count": 2,
   "id": "a4bcd1fe-b2ad-4558-a0c1-4d56162b78bc",
   "metadata": {},
   "outputs": [
    {
     "data": {
      "text/plain": [
       "'/Users/sreejith/Desktop/Start/Work JB/Python/Projects/UdemyBootcamp'"
      ]
     },
     "execution_count": 2,
     "metadata": {},
     "output_type": "execute_result"
    }
   ],
   "source": [
    "pwd"
   ]
  },
  {
   "cell_type": "code",
   "execution_count": 72,
   "id": "d1d56d45-121a-4ba9-9c1e-ea60e27d8820",
   "metadata": {},
   "outputs": [
    {
     "name": "stdout",
     "output_type": "stream",
     "text": [
      "Overwriting myfile.txt\n"
     ]
    }
   ],
   "source": [
    "%%writefile myfile.txt\n",
    "Hello, this is a line\n",
    "This is another line in next"
   ]
  },
  {
   "cell_type": "code",
   "execution_count": 6,
   "id": "6d2496cc-d749-43d8-b1da-f733f8a29a86",
   "metadata": {},
   "outputs": [],
   "source": [
    "myfile = open('myfile.txt')\n"
   ]
  },
  {
   "cell_type": "code",
   "execution_count": 8,
   "id": "de50b9a3-e474-40ec-bab4-8a01932cd863",
   "metadata": {},
   "outputs": [
    {
     "data": {
      "text/plain": [
       "'Hello, this is a line\\nThis is another line\\n'"
      ]
     },
     "execution_count": 8,
     "metadata": {},
     "output_type": "execute_result"
    }
   ],
   "source": [
    "myfile.read()"
   ]
  },
  {
   "cell_type": "code",
   "execution_count": 17,
   "id": "bbfbf455-1a89-4076-a88f-0781ee109b94",
   "metadata": {},
   "outputs": [
    {
     "data": {
      "text/plain": [
       "['Hello, this is a line\\n', 'This is another line\\n']"
      ]
     },
     "execution_count": 17,
     "metadata": {},
     "output_type": "execute_result"
    }
   ],
   "source": [
    "myfile.seek(0)\n",
    "contents = myfile.readlines()\n",
    "myfile.close()\n",
    "contents"
   ]
  },
  {
   "cell_type": "code",
   "execution_count": 46,
   "id": "b01202ef-534c-4645-b48a-755652f65a88",
   "metadata": {},
   "outputs": [
    {
     "name": "stdout",
     "output_type": "stream",
     "text": [
      "\n",
      "\n"
     ]
    }
   ],
   "source": [
    "with open('myfile.txt', mode='w+') as myfile:\n",
    "    print(myfile.read())\n",
    "    myfile.write('\\nAdding a new line')\n",
    "    print(myfile.read())"
   ]
  },
  {
   "cell_type": "code",
   "execution_count": 74,
   "id": "77e5ac8c-bd34-4a06-95b5-48149f480916",
   "metadata": {},
   "outputs": [
    {
     "name": "stdout",
     "output_type": "stream",
     "text": [
      "Hello, this is a line\n",
      "This is another line in next\n",
      "\n",
      "Hello, this is a line\n",
      "This is another line in next\n",
      "\n",
      "Adding a new line\n"
     ]
    }
   ],
   "source": [
    "myfile =  open('myfile.txt', mode='r+') \n",
    "myfile.seek(0)\n",
    "print(myfile.read())\n",
    "myfile.write('\\nAdding a new line')\n",
    "myfile.seek(0)\n",
    "print(myfile.read())\n",
    "myfile.close()"
   ]
  },
  {
   "cell_type": "code",
   "execution_count": null,
   "id": "0add12c0-5aca-4aa1-b854-58d326ee478c",
   "metadata": {},
   "outputs": [],
   "source": []
  },
  {
   "cell_type": "markdown",
   "id": "1141aab3-4d78-4b04-98d6-5011395a6ac7",
   "metadata": {},
   "source": [
    "## Basics"
   ]
  },
  {
   "cell_type": "code",
   "execution_count": 3,
   "id": "9afe279a-5979-47fc-aa30-26538f9f089f",
   "metadata": {},
   "outputs": [
    {
     "data": {
      "text/plain": [
       "2"
      ]
     },
     "execution_count": 3,
     "metadata": {},
     "output_type": "execute_result"
    }
   ],
   "source": [
    "1+1 # Shift + Enter"
   ]
  },
  {
   "cell_type": "code",
   "execution_count": 3,
   "id": "c4c9e305-e7c8-464e-b883-03f968bb8ee1",
   "metadata": {},
   "outputs": [
    {
     "name": "stdout",
     "output_type": "stream",
     "text": [
      "Hello world\n"
     ]
    }
   ],
   "source": [
    "print('Hello world')"
   ]
  },
  {
   "cell_type": "code",
   "execution_count": 2,
   "id": "803eee9a-16ee-4fd9-969e-a7ff83ee3586",
   "metadata": {},
   "outputs": [
    {
     "data": {
      "text/plain": [
       "200.0"
      ]
     },
     "execution_count": 2,
     "metadata": {},
     "output_type": "execute_result"
    }
   ],
   "source": [
    "2e2\n"
   ]
  },
  {
   "cell_type": "code",
   "execution_count": 4,
   "id": "6982ec14-f1aa-4399-92d5-e9696b1250b3",
   "metadata": {},
   "outputs": [
    {
     "data": {
      "text/plain": [
       "200.0"
      ]
     },
     "execution_count": 4,
     "metadata": {},
     "output_type": "execute_result"
    }
   ],
   "source": [
    "2E2"
   ]
  },
  {
   "cell_type": "code",
   "execution_count": 6,
   "id": "5371eecb-7a01-4ab0-ab15-f6eebfc3658a",
   "metadata": {},
   "outputs": [
    {
     "data": {
      "text/plain": [
       "True"
      ]
     },
     "execution_count": 6,
     "metadata": {},
     "output_type": "execute_result"
    }
   ],
   "source": [
    "2e2==2E2"
   ]
  },
  {
   "cell_type": "code",
   "execution_count": 8,
   "id": "6e733421-1ee6-4435-8abb-23146c19f73c",
   "metadata": {},
   "outputs": [
    {
     "name": "stdout",
     "output_type": "stream",
     "text": [
      "even\n"
     ]
    }
   ],
   "source": [
    "if 20 % 2:\n",
    "    print('odd')\n",
    "else:\n",
    "    print('even')"
   ]
  },
  {
   "cell_type": "code",
   "execution_count": 10,
   "id": "9199d61e-f34b-4e7b-af2c-f47205631bf4",
   "metadata": {},
   "outputs": [
    {
     "data": {
      "text/plain": [
       "5.551115123125783e-17"
      ]
     },
     "execution_count": 10,
     "metadata": {},
     "output_type": "execute_result"
    }
   ],
   "source": [
    "0.1+0.2-0.3"
   ]
  },
  {
   "cell_type": "code",
   "execution_count": 12,
   "id": "92f1682a-6a54-4962-b80f-c55b3f583f5d",
   "metadata": {},
   "outputs": [
    {
     "data": {
      "text/plain": [
       "1.1"
      ]
     },
     "execution_count": 12,
     "metadata": {},
     "output_type": "execute_result"
    }
   ],
   "source": [
    "1.1"
   ]
  },
  {
   "cell_type": "code",
   "execution_count": 14,
   "id": "64ef7592-5266-4ff1-bb00-4761795af4a4",
   "metadata": {},
   "outputs": [
    {
     "ename": "SyntaxError",
     "evalue": "invalid syntax (1004970667.py, line 1)",
     "output_type": "error",
     "traceback": [
      "\u001b[0;36m  Cell \u001b[0;32mIn[14], line 1\u001b[0;36m\u001b[0m\n\u001b[0;31m    30+*6\u001b[0m\n\u001b[0m       ^\u001b[0m\n\u001b[0;31mSyntaxError\u001b[0m\u001b[0;31m:\u001b[0m invalid syntax\n"
     ]
    }
   ],
   "source": [
    "30+*6"
   ]
  },
  {
   "cell_type": "markdown",
   "id": "bcd2be60-6510-4bc0-b36c-32e3b9ca78b5",
   "metadata": {},
   "source": [
    "## Strings"
   ]
  },
  {
   "cell_type": "code",
   "execution_count": 17,
   "id": "4eaa5383-069a-4f8b-b096-c0a84e401f7b",
   "metadata": {},
   "outputs": [],
   "source": [
    "x = 'hello'"
   ]
  },
  {
   "cell_type": "code",
   "execution_count": 23,
   "id": "b1749703-2c35-4e69-a9d1-dc568e639015",
   "metadata": {},
   "outputs": [
    {
     "data": {
      "text/plain": [
       "2"
      ]
     },
     "execution_count": 23,
     "metadata": {},
     "output_type": "execute_result"
    }
   ],
   "source": [
    "x.count('l')"
   ]
  },
  {
   "cell_type": "code",
   "execution_count": 25,
   "id": "bc678174-56be-4262-a140-5453565c4496",
   "metadata": {},
   "outputs": [
    {
     "data": {
      "text/plain": [
       "1"
      ]
     },
     "execution_count": 25,
     "metadata": {},
     "output_type": "execute_result"
    }
   ],
   "source": [
    "x.find('e')"
   ]
  },
  {
   "cell_type": "code",
   "execution_count": null,
   "id": "2e0e0efd-f8b1-4864-8e71-cb97346be62a",
   "metadata": {},
   "outputs": [],
   "source": []
  }
 ],
 "metadata": {
  "kernelspec": {
   "display_name": "Python 3 (ipykernel)",
   "language": "python",
   "name": "python3"
  },
  "language_info": {
   "codemirror_mode": {
    "name": "ipython",
    "version": 3
   },
   "file_extension": ".py",
   "mimetype": "text/x-python",
   "name": "python",
   "nbconvert_exporter": "python",
   "pygments_lexer": "ipython3",
   "version": "3.12.4"
  }
 },
 "nbformat": 4,
 "nbformat_minor": 5
}
